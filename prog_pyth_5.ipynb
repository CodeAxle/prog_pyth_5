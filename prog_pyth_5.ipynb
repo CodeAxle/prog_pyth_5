{
 "cells": [
  {
   "cell_type": "markdown",
   "id": "34c60d9c",
   "metadata": {},
   "source": [
    "# 1."
   ]
  },
  {
   "cell_type": "code",
   "execution_count": 1,
   "id": "b83204eb",
   "metadata": {},
   "outputs": [
    {
     "name": "stdout",
     "output_type": "stream",
     "text": [
      "Enter first number: 5\n",
      "Enter second number: 3\n",
      "The LCM of 5 and 3 is 15\n"
     ]
    }
   ],
   "source": [
    "# code:\n",
    "def find_lcm(x, y):\n",
    "    # Choose the greater number\n",
    "    if x > y:\n",
    "        greater = x\n",
    "    else:\n",
    "        greater = y\n",
    "\n",
    "    while True:\n",
    "        if greater % x == 0 and greater % y == 0:\n",
    "            lcm = greater\n",
    "            break\n",
    "        greater += 1\n",
    "\n",
    "    return lcm\n",
    "\n",
    "# Input from the user for two numbers\n",
    "num1 = int(input(\"Enter first number: \"))\n",
    "num2 = int(input(\"Enter second number: \"))\n",
    "\n",
    "# Calculate and print the LCM of the two numbers\n",
    "lcm = find_lcm(num1, num2)\n",
    "print(f\"The LCM of {num1} and {num2} is {lcm}\")"
   ]
  },
  {
   "cell_type": "markdown",
   "id": "aa8a806e",
   "metadata": {},
   "source": [
    "# 2."
   ]
  },
  {
   "cell_type": "code",
   "execution_count": 2,
   "id": "d0bded8f",
   "metadata": {},
   "outputs": [
    {
     "name": "stdout",
     "output_type": "stream",
     "text": [
      "Enter first number: 2\n",
      "Enter second number: 4\n",
      "The HCF of 2 and 4 is 2\n"
     ]
    }
   ],
   "source": [
    "# code:\n",
    "def find_hcf(x, y):\n",
    "    while y:\n",
    "        x, y = y, x % y\n",
    "    return x\n",
    "\n",
    "# Input from the user for two numbers\n",
    "num1 = int(input(\"Enter first number: \"))\n",
    "num2 = int(input(\"Enter second number: \"))\n",
    "\n",
    "# Calculate and print the HCF of the two numbers\n",
    "hcf = find_hcf(num1, num2)\n",
    "print(f\"The HCF of {num1} and {num2} is {hcf}\")"
   ]
  },
  {
   "cell_type": "markdown",
   "id": "2cc548fb",
   "metadata": {},
   "source": [
    "# 3."
   ]
  },
  {
   "cell_type": "code",
   "execution_count": 3,
   "id": "0a89286e",
   "metadata": {},
   "outputs": [
    {
     "name": "stdout",
     "output_type": "stream",
     "text": [
      "Enter a decimal number: 24\n",
      "Binary representation: 0b11000\n",
      "Octal representation: 0o30\n",
      "Hexadecimal representation: 0x18\n"
     ]
    }
   ],
   "source": [
    "# code:\n",
    "def decimal_to_binary(decimal_num):\n",
    "    return bin(decimal_num)\n",
    "\n",
    "def decimal_to_octal(decimal_num):\n",
    "    return oct(decimal_num)\n",
    "\n",
    "def decimal_to_hexadecimal(decimal_num):\n",
    "    return hex(decimal_num)\n",
    "\n",
    "# Input from the user for a decimal number\n",
    "decimal_number = int(input(\"Enter a decimal number: \"))\n",
    "\n",
    "# Convert decimal number to binary, octal, and hexadecimal\n",
    "binary = decimal_to_binary(decimal_number)\n",
    "octal = decimal_to_octal(decimal_number)\n",
    "hexadecimal = decimal_to_hexadecimal(decimal_number)\n",
    "\n",
    "# Display the converted values\n",
    "print(f\"Binary representation: {binary}\")\n",
    "print(f\"Octal representation: {octal}\")\n",
    "print(f\"Hexadecimal representation: {hexadecimal}\")"
   ]
  },
  {
   "cell_type": "markdown",
   "id": "5ba0fa38",
   "metadata": {},
   "source": [
    "# 4."
   ]
  },
  {
   "cell_type": "code",
   "execution_count": 4,
   "id": "11b6be5d",
   "metadata": {},
   "outputs": [
    {
     "name": "stdout",
     "output_type": "stream",
     "text": [
      "Enter a character: H\n",
      "The ASCII value of 'H' is 72\n"
     ]
    }
   ],
   "source": [
    "# code:\n",
    "# Input a character from the user\n",
    "character = input(\"Enter a character: \")\n",
    "\n",
    "# Get the ASCII value of the character using ord()\n",
    "ascii_value = ord(character)\n",
    "\n",
    "# Display the ASCII value\n",
    "print(f\"The ASCII value of '{character}' is {ascii_value}\")"
   ]
  },
  {
   "cell_type": "markdown",
   "id": "b1b657fb",
   "metadata": {},
   "source": [
    "# 5."
   ]
  },
  {
   "cell_type": "code",
   "execution_count": 5,
   "id": "41d02ee3",
   "metadata": {},
   "outputs": [
    {
     "name": "stdout",
     "output_type": "stream",
     "text": [
      "Select operation:\n",
      "1. Add\n",
      "2. Subtract\n",
      "3. Multiply\n",
      "4. Divide\n",
      "Enter choice (1/2/3/4): 3\n",
      "Enter first number: 4\n",
      "Enter second number: 4\n",
      "4.0 * 4.0 = 16.0\n"
     ]
    }
   ],
   "source": [
    "# code:\n",
    "def add(x, y):\n",
    "    return x + y\n",
    "\n",
    "def subtract(x, y):\n",
    "    return x - y\n",
    "\n",
    "def multiply(x, y):\n",
    "    return x * y\n",
    "\n",
    "def divide(x, y):\n",
    "    if y == 0:\n",
    "        return \"Error! Division by zero is not allowed.\"\n",
    "    return x / y\n",
    "\n",
    "print(\"Select operation:\")\n",
    "print(\"1. Add\")\n",
    "print(\"2. Subtract\")\n",
    "print(\"3. Multiply\")\n",
    "print(\"4. Divide\")\n",
    "\n",
    "choice = input(\"Enter choice (1/2/3/4): \")\n",
    "\n",
    "num1 = float(input(\"Enter first number: \"))\n",
    "num2 = float(input(\"Enter second number: \"))\n",
    "\n",
    "if choice == '1':\n",
    "    print(f\"{num1} + {num2} = {add(num1, num2)}\")   \n",
    "elif choice == '2':\n",
    "    print(f\"{num1} - {num2} = {subtract(num1, num2)}\")\n",
    "elif choice == '3':\n",
    "    print(f\"{num1} * {num2} = {multiply(num1, num2)}\")\n",
    "else:\n",
    "    print(f\"{num1} / {num2} = {divide(num1, num2)}\")"
   ]
  },
  {
   "cell_type": "code",
   "execution_count": null,
   "id": "75700ca1",
   "metadata": {},
   "outputs": [],
   "source": []
  }
 ],
 "metadata": {
  "kernelspec": {
   "display_name": "Python 3 (ipykernel)",
   "language": "python",
   "name": "python3"
  },
  "language_info": {
   "codemirror_mode": {
    "name": "ipython",
    "version": 3
   },
   "file_extension": ".py",
   "mimetype": "text/x-python",
   "name": "python",
   "nbconvert_exporter": "python",
   "pygments_lexer": "ipython3",
   "version": "3.11.5"
  }
 },
 "nbformat": 4,
 "nbformat_minor": 5
}
